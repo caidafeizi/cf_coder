{
 "cells": [
  {
   "cell_type": "markdown",
   "metadata": {},
   "source": [
    "分治\n",
    "分析：\n",
    "对于一个数组arr[low...high],我们可以将其划分为两个规模相等的子数组，arr[low...mid]和arr[mid+1...high]，那么最大的连续子数组的位置有三个位置\n",
    "（1）完全位于左子数组中\n",
    "（2）完全位于右子数组中\n",
    "（3）跨越中点的数组中\n",
    "结果：取左子数组，右子数组，跨越中点的子数组中的最大值"
   ]
  },
  {
   "cell_type": "code",
   "execution_count": 14,
   "metadata": {},
   "outputs": [
    {
     "data": {
      "text/plain": [
       "13"
      ]
     },
     "execution_count": 14,
     "metadata": {},
     "output_type": "execute_result"
    }
   ],
   "source": [
    "    def Max_cross_sum(list1,left,mid,right):\n",
    "        left_sum = 0\n",
    "        right_sum = 0\n",
    "        temp = 0\n",
    "        mid_1 = mid\n",
    "        while mid_1>=left:\n",
    "            temp += list1[mid_1]\n",
    "            left_sum = max(left_sum,temp)\n",
    "            mid_1 -= 1\n",
    "        temp = 0\n",
    "        mid_1 = mid + 1\n",
    "        while mid_1<=right:\n",
    "            temp += list1[mid_1]\n",
    "            right_sum = max(right_sum,temp)\n",
    "            mid_1 += 1\n",
    "        return left_sum+right_sum\n",
    "    def Max_sum(list1,left,right):\n",
    "        if left == right:\n",
    "            return list1[left]\n",
    "        mid = (left+right)//2\n",
    "        left_sum = Max_sum(list1,left,mid)\n",
    "        right_sum = Max_sum(list1,mid+1,right)\n",
    "        cross_sum = Max_cross_sum(list1,left,mid,right)\n",
    "        return max(left_sum,max(right_sum,cross_sum))    \n",
    "    list1 = [-2,1,-3,4,-10,2,10,-5,6]\n",
    "    Max_sum(list1,0,len(list1)-1)"
   ]
  },
  {
   "cell_type": "markdown",
   "metadata": {},
   "source": [
    "动态规划\n",
    "动态规划求策略过程最优化的问题。本题的状态转移方程是dp[i] = max(dp[i]+list1[i],list1[i])。然后进行编码。"
   ]
  },
  {
   "cell_type": "code",
   "execution_count": 7,
   "metadata": {},
   "outputs": [
    {
     "data": {
      "text/plain": [
       "15"
      ]
     },
     "execution_count": 7,
     "metadata": {},
     "output_type": "execute_result"
    }
   ],
   "source": [
    "def Max_sum(lis1):\n",
    "        temp = 0\n",
    "        max_sum = 0\n",
    "        for cnt in list1:\n",
    "            temp = max(temp+cnt,cnt)\n",
    "            max_sum = max(max_sum,temp)\n",
    "        return max_sum\n",
    "    list1 = [-2,1,-3,4,-1,2,10,-5,1]\n",
    "    Max_sum(list1)"
   ]
  },
  {
   "cell_type": "code",
   "execution_count": null,
   "metadata": {},
   "outputs": [],
   "source": []
  }
 ],
 "metadata": {
  "kernelspec": {
   "display_name": "Python 3",
   "language": "python",
   "name": "python3"
  },
  "language_info": {
   "codemirror_mode": {
    "name": "ipython",
    "version": 3
   },
   "file_extension": ".py",
   "mimetype": "text/x-python",
   "name": "python",
   "nbconvert_exporter": "python",
   "pygments_lexer": "ipython3",
   "version": "3.7.1"
  }
 },
 "nbformat": 4,
 "nbformat_minor": 2
}
